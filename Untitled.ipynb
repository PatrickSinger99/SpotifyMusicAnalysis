{
 "cells": [
  {
   "cell_type": "code",
   "execution_count": 3,
   "id": "e9adfdfe",
   "metadata": {},
   "outputs": [],
   "source": [
    "import requests\n",
    "import json"
   ]
  },
  {
   "cell_type": "code",
   "execution_count": 4,
   "id": "e129b1d8",
   "metadata": {},
   "outputs": [],
   "source": [
    "# Read the credentials from the JSON file\n",
    "with open(\"credentials.json\", 'r') as file:\n",
    "    credentials = json.load(file)\n",
    "    client_id = credentials[\"client_id\"]\n",
    "    client_secret = credentials[\"client_secret\"]"
   ]
  },
  {
   "cell_type": "code",
   "execution_count": null,
   "id": "dc7df0d7",
   "metadata": {},
   "outputs": [],
   "source": [
    "url = \"https://accounts.spotify.com/api/token\"\n",
    "headers = {\"Content-Type\": \"application/x-www-form-urlencoded\"}\n",
    "data = {\"grant_type\": \"client_credentials\", \"client_id\": client_id, \"client_secret\": client_secret}\n",
    "\n",
    "response = requests.post(url)"
   ]
  }
 ],
 "metadata": {
  "kernelspec": {
   "display_name": "Python 3 (ipykernel)",
   "language": "python",
   "name": "python3"
  },
  "language_info": {
   "codemirror_mode": {
    "name": "ipython",
    "version": 3
   },
   "file_extension": ".py",
   "mimetype": "text/x-python",
   "name": "python",
   "nbconvert_exporter": "python",
   "pygments_lexer": "ipython3",
   "version": "3.7.4"
  }
 },
 "nbformat": 4,
 "nbformat_minor": 5
}
