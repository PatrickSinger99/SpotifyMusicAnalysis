{
 "cells": [
  {
   "cell_type": "markdown",
   "id": "7a1acb2f",
   "metadata": {},
   "source": [
    "## 0. Imports"
   ]
  },
  {
   "cell_type": "code",
   "execution_count": 8,
   "id": "812b296a",
   "metadata": {},
   "outputs": [],
   "source": [
    "import requests\n",
    "import json\n",
    "import os\n",
    "from tqdm import tqdm\n",
    "import matplotlib.pyplot as plt\n",
    "from IPython.display import display\n",
    "import ipywidgets"
   ]
  },
  {
   "cell_type": "code",
   "execution_count": 2,
   "id": "0a83a92b-edcd-459d-8dc9-1209ec883ad0",
   "metadata": {},
   "outputs": [],
   "source": [
    "# If True, always calls the API for new data. Otherwise saved data is used if available\n",
    "refetch_data = False"
   ]
  },
  {
   "cell_type": "code",
   "execution_count": 3,
   "id": "6ef40331-0c0e-4abd-9121-c95d2faf0646",
   "metadata": {},
   "outputs": [],
   "source": [
    "# Paths\n",
    "playlist_content_save_path = \"./playlist_content_data.json\"\n",
    "album_content_save_path = \"./album_content_data.json\""
   ]
  },
  {
   "cell_type": "markdown",
   "id": "078bbf0e",
   "metadata": {},
   "source": [
    "## 1. Get Access Token\n",
    "Use the spotify developer credentials in the `credentials.json` file to generate an access token (valid for 1 hour)."
   ]
  },
  {
   "cell_type": "code",
   "execution_count": 10,
   "id": "f4ce695f",
   "metadata": {},
   "outputs": [],
   "source": [
    "def get_spotify_access_token():\n",
    "    # Read the credentials from the JSON file\n",
    "    with open(\"credentials.json\", 'r') as file:\n",
    "        credentials = json.load(file)\n",
    "        client_id = credentials[\"client_id\"]\n",
    "        client_secret = credentials[\"client_secret\"]\n",
    "        \n",
    "    # Get access token from spotify\n",
    "    url = \"https://accounts.spotify.com/api/token\"\n",
    "    headers = {\"Content-Type\": \"application/x-www-form-urlencoded\"}\n",
    "    data = {\"grant_type\": \"client_credentials\", \"client_id\": client_id, \"client_secret\": client_secret}\n",
    "\n",
    "    response = requests.post(url, headers=headers, data=data)\n",
    "    \n",
    "    if response.status_code == 200:\n",
    "        return response.json()[\"access_token\"]\n",
    "    else:\n",
    "        print(f\"Access token request failed, Status Code: {response.status_code}\")\n",
    "        return None"
   ]
  },
  {
   "cell_type": "code",
   "execution_count": 11,
   "id": "5a2f4b3f",
   "metadata": {},
   "outputs": [],
   "source": [
    "access_token = get_spotify_access_token()"
   ]
  },
  {
   "cell_type": "markdown",
   "id": "3c142655",
   "metadata": {},
   "source": [
    "## 2. Get Playlist Content\n",
    "Fetch complete playlist data from a playlist id"
   ]
  },
  {
   "cell_type": "code",
   "execution_count": 4,
   "id": "831e9eed",
   "metadata": {},
   "outputs": [],
   "source": [
    "def get_playlist_content(playlist_id, save_to_file=True):\n",
    "    url = \"https://api.spotify.com/v1/playlists/\" + playlist_id\n",
    "    headers = {\"Authorization\": \"Bearer \" + access_token}\n",
    "    \n",
    "    base_response = requests.get(url, headers=headers)\n",
    "    print(f\"Requested: {url}, Status Code: {base_response.status_code}\")\n",
    "    \n",
    "    if base_response.status_code == 200:\n",
    "        base_response_json = base_response.json()\n",
    "        next_url = base_response_json[\"tracks\"][\"next\"]\n",
    "    else:\n",
    "        print(\"Failed to fetch playlist data\")\n",
    "        return None        \n",
    "    \n",
    "    while next_url is not None:\n",
    "        response = requests.get(next_url, headers=headers)\n",
    "        print(f\"Requested: {next_url}, Status Code: {response.status_code}\")\n",
    "        \n",
    "        if response.status_code == 200:\n",
    "            additional_tracks = response.json()\n",
    "            base_response_json[\"tracks\"][\"items\"].extend(additional_tracks[\"items\"])\n",
    "            next_url = additional_tracks[\"next\"]\n",
    "        else:\n",
    "            print(\"Failed to fetch playlist data\")\n",
    "            return None\n",
    "\n",
    "    if save_to_file:\n",
    "        with open(playlist_content_save_path, \"w\") as save_file:\n",
    "            json.dump(base_response_json, save_file)\n",
    "\n",
    "    return base_response_json"
   ]
  },
  {
   "cell_type": "code",
   "execution_count": 20,
   "id": "a5e810b2",
   "metadata": {},
   "outputs": [
    {
     "name": "stdout",
     "output_type": "stream",
     "text": [
      "Loaded data from save file\n"
     ]
    }
   ],
   "source": [
    "if refetch_data or not os.path.exists(playlist_content_save_path):\n",
    "    playlist_json = get_playlist_content(playlist_id=\"4hnDUcviGrwCf46xa7vzfR\")\n",
    "else:\n",
    "    with open(playlist_content_save_path, \"r\") as save_file:\n",
    "        playlist_json = json.load(save_file)\n",
    "        print(\"Loaded data from save file\")"
   ]
  },
  {
   "cell_type": "code",
   "execution_count": 21,
   "id": "f3c19011",
   "metadata": {},
   "outputs": [
    {
     "name": "stdout",
     "output_type": "stream",
     "text": [
      "Length of playlist: 355\n"
     ]
    }
   ],
   "source": [
    "print(f\"Length of playlist: {len(playlist_json['tracks']['items'])}\")"
   ]
  },
  {
   "cell_type": "code",
   "execution_count": 22,
   "id": "28ceb9a3",
   "metadata": {
    "scrolled": true
   },
   "outputs": [
    {
     "name": "stdout",
     "output_type": "stream",
     "text": [
      "Last five songs in playlist:\n",
      " - With Me ['Sum 41']\n",
      " - Your Sword Versus My Dagger ['Silverstein']\n",
      " - Our Song ['Silverstein']\n",
      " - The Foundations of Decay ['My Chemical Romance']\n",
      " - A Better Place ['Silverstein']\n"
     ]
    }
   ],
   "source": [
    "print(\"Last five songs in playlist:\")\n",
    "tracks = playlist_json[\"tracks\"][\"items\"]\n",
    "\n",
    "for track in tracks[-5:]:\n",
    "    name = track[\"track\"][\"name\"]\n",
    "    artists = [artist[\"name\"] for artist in track[\"track\"][\"artists\"]]\n",
    "    print(\" -\", name, artists)"
   ]
  },
  {
   "cell_type": "markdown",
   "id": "95633aa5",
   "metadata": {},
   "source": [
    "## 3. Get Album Data\n",
    "The playlist api does not contain all datapoints on the tracks. Fetching the albums separately is necessary"
   ]
  },
  {
   "cell_type": "code",
   "execution_count": 23,
   "id": "ff75ec98",
   "metadata": {},
   "outputs": [],
   "source": [
    "def get_album_data(album_id):\n",
    "    album_url = f\"https://api.spotify.com/v1/albums/{album_id}\"\n",
    "    headers = {\"Authorization\": f\"Bearer {access_token}\"}\n",
    "    response = requests.get(album_url, headers=headers)\n",
    "    \n",
    "    return response"
   ]
  },
  {
   "cell_type": "code",
   "execution_count": 24,
   "id": "94960ffd",
   "metadata": {},
   "outputs": [],
   "source": [
    "def get_playlist_albums_data(playlist_json, save_to_file=True):\n",
    "    album_ids = list(set(track[\"track\"][\"album\"][\"id\"] for track in playlist_json[\"tracks\"][\"items\"]))\n",
    "    albums_data = {}\n",
    "    \n",
    "    for album_id in tqdm(album_ids):\n",
    "        response = get_album_data(album_ids[0])\n",
    "        if response.status_code == 200:\n",
    "            albums_data[album_id] = response.json()\n",
    "        else:\n",
    "            print(f\"Request failed for album {album_id}, Status Code: {response.status_code}\")\n",
    "\n",
    "    if save_to_file:\n",
    "        with open(album_content_save_path, \"w\") as save_file:\n",
    "            json.dump(albums_data, save_file)\n",
    "        \n",
    "    return albums_data"
   ]
  },
  {
   "cell_type": "code",
   "execution_count": 26,
   "id": "3832da33",
   "metadata": {},
   "outputs": [
    {
     "name": "stdout",
     "output_type": "stream",
     "text": [
      "Loaded data from save file\n"
     ]
    }
   ],
   "source": [
    "if refetch_data or not os.path.exists(album_content_save_path):\n",
    "    albums_data = get_playlist_albums_data(playlist_json)\n",
    "else:\n",
    "    with open(album_content_save_path, \"r\") as save_file:\n",
    "        albums_data = json.load(save_file)\n",
    "        print(\"Loaded data from save file\")"
   ]
  },
  {
   "cell_type": "code",
   "execution_count": 27,
   "id": "c23ba8cf",
   "metadata": {},
   "outputs": [
    {
     "data": {
      "text/plain": [
       "dict_keys(['album_type', 'artists', 'available_markets', 'copyrights', 'external_ids', 'external_urls', 'genres', 'href', 'id', 'images', 'label', 'name', 'popularity', 'release_date', 'release_date_precision', 'total_tracks', 'tracks', 'type', 'uri'])"
      ]
     },
     "execution_count": 27,
     "metadata": {},
     "output_type": "execute_result"
    }
   ],
   "source": [
    "albums_data[\"15XNBzVWARPMlu0sEbfBjJ\"].keys()"
   ]
  },
  {
   "cell_type": "code",
   "execution_count": 28,
   "id": "838556dc",
   "metadata": {},
   "outputs": [
    {
     "data": {
      "text/plain": [
       "'Hot Fuss'"
      ]
     },
     "execution_count": 28,
     "metadata": {},
     "output_type": "execute_result"
    }
   ],
   "source": [
    "albums_data[\"15XNBzVWARPMlu0sEbfBjJ\"][\"name\"]"
   ]
  },
  {
   "cell_type": "markdown",
   "id": "a50b1f24",
   "metadata": {},
   "source": [
    "## 4. Simple Analysis of Playlist"
   ]
  },
  {
   "cell_type": "code",
   "execution_count": 29,
   "id": "a0dfeaf2",
   "metadata": {},
   "outputs": [],
   "source": [
    "def analyse_playlist(playlist_json):\n",
    "    explicit_track = {}\n",
    "    popularity = {key: 0 for key in range(101)}  # Populate in advance to ensure sorted by popularity value\n",
    "    artists = {}\n",
    "    track_length = []\n",
    "    \n",
    "    for track in playlist_json[\"tracks\"][\"items\"]:\n",
    "        explicit_track[track[\"track\"][\"explicit\"]] = explicit_track.get(track[\"track\"][\"explicit\"], 0) + 1\n",
    "        popularity[track[\"track\"][\"popularity\"]] = popularity.get(track[\"track\"][\"popularity\"], 0) + 1\n",
    "        artists[track[\"track\"][\"artists\"][0][\"name\"]] = artists.get(track[\"track\"][\"artists\"][0][\"name\"], 0) + 1  # Main artist only currently\n",
    "        track_length.append(track[\"track\"][\"duration_ms\"] / 60000)  # Convert to mins   \n",
    "        \n",
    "    # Sort\n",
    "    artists = dict(sorted(artists.items(), key=lambda item: item[1], reverse=True))\n",
    "    \n",
    "    return {\"explicit_track\": explicit_track, \"popularity\": popularity, \"artists\": artists, \"track_lengths\": track_length}"
   ]
  },
  {
   "cell_type": "code",
   "execution_count": 30,
   "id": "b849529f",
   "metadata": {},
   "outputs": [],
   "source": [
    "playlist_analysis_data = analyse_playlist(playlist_json)"
   ]
  },
  {
   "cell_type": "markdown",
   "id": "85505533",
   "metadata": {},
   "source": [
    "### Analysis Plot"
   ]
  },
  {
   "cell_type": "code",
   "execution_count": 31,
   "id": "3accf23b",
   "metadata": {},
   "outputs": [
    {
     "data": {
      "image/png": "[encoded data removed]",
      "text/plain": [
       "<Figure size 1500x1000 with 4 Axes>"
      ]
     },
     "metadata": {},
     "output_type": "display_data"
    }
   ],
   "source": [
    "fig, axs = plt.subplots(2, 2, figsize=(15, 10))\n",
    "\n",
    "# Plot 1\n",
    "axs[0, 0].bar(playlist_analysis_data[\"popularity\"].keys(), playlist_analysis_data[\"popularity\"].values())\n",
    "axs[0, 0].set_ylabel('Number of Tracks')\n",
    "axs[0, 0].set_xlabel('Popularity')\n",
    "axs[0, 0].set_title('Global Track Popularity')\n",
    "\n",
    "# Plot 2\n",
    "axs[0, 1].barh([\"No\", \"Yes\"], playlist_analysis_data[\"explicit_track\"].values())\n",
    "axs[0, 1].set_ylabel('Explicit')\n",
    "axs[0, 1].set_xlabel('Number of Tracks')\n",
    "axs[0, 1].set_title('Explicit Tracks')\n",
    "\n",
    "# Plot 3\n",
    "axs[1, 0].barh(list(playlist_analysis_data[\"artists\"].keys())[:10][::-1], \n",
    "               list(playlist_analysis_data[\"artists\"].values())[:10][::-1])\n",
    "axs[1, 0].set_xlabel('Number of Tracks')\n",
    "axs[1, 0].set_title('Most popular Artists in Playlist')\n",
    "\n",
    "\n",
    "# Plot 4\n",
    "axs[1, 1].hist(playlist_analysis_data[\"track_lengths\"], bins=30)\n",
    "axs[1, 1].set_title('Track Lengths')\n",
    "axs[1, 1].set_xlabel('Minutes')\n",
    "axs[1, 1].set_ylabel('Number of Tracks')\n",
    "\n",
    "plt.suptitle(\"Playlist Overview\", size=18)\n",
    "plt.tight_layout()\n",
    "plt.show()"
   ]
  },
  {
   "cell_type": "code",
   "execution_count": 33,
   "id": "21dfaa7c",
   "metadata": {},
   "outputs": [
    {
     "data": {
      "application/vnd.jupyter.widget-view+json": {
       "model_id": "1aacfc5ef06e42cdb1fcd5ad3d480072",
       "version_major": 2,
       "version_minor": 0
      },
      "text/plain": [
       "GridBox(children=(Checkbox(value=True, description='My Chemical Romance'), Checkbox(value=True, description='S…"
      ]
     },
     "metadata": {},
     "output_type": "display_data"
    }
   ],
   "source": [
    "checkboxes = [ipywidgets.Checkbox(value=False if num < 2 else True, description=band) for band, num in playlist_analysis_data[\"artists\"].items()]\n",
    "grid_layout = ipywidgets.GridBox(children=checkboxes, layout=ipywidgets.Layout(\n",
    "    width='100%',\n",
    "    height='auto',\n",
    "    border='1px solid black',\n",
    "    display='flex',\n",
    "    flex_flow='row wrap',\n",
    "    justify_content='space-around',\n",
    "    padding='0 0px'\n",
    "))\n",
    "\n",
    "display(grid_layout)"
   ]
  },
  {
   "cell_type": "code",
   "execution_count": 34,
   "id": "86f27bbc",
   "metadata": {},
   "outputs": [],
   "source": [
    "def get_selected_artists():\n",
    "    return [checkbox.description for checkbox in checkboxes if checkbox.value]"
   ]
  },
  {
   "cell_type": "code",
   "execution_count": 48,
   "id": "d9e42a7d",
   "metadata": {},
   "outputs": [],
   "source": [
    "selected_artists = get_selected_artists()"
   ]
  },
  {
   "cell_type": "code",
   "execution_count": null,
   "id": "bfda83b7",
   "metadata": {},
   "outputs": [],
   "source": [
    "def get_artist_albums()"
   ]
  },
  {
   "cell_type": "code",
   "execution_count": 78,
   "id": "048a466a",
   "metadata": {},
   "outputs": [
    {
     "name": "stdout",
     "output_type": "stream",
     "text": [
      "Query submitted successfully\n"
     ]
    }
   ],
   "source": [
    "url = 'https://musicbrainz.org/ws/2/artist/f2eef649-a6d5-4114-afba-e50ab26254d2?inc=release-groups&fmt=json'\n",
    "\n",
    "params = {\n",
    "    'mbid': 'f2eef649-a6d5-4114-afba-e50ab26254d2',\n",
    "    'inc': 'releases',  # Include releases in the response\n",
    "    'fmt': \"json\"       # Limit the number of releases returned\n",
    "}\n",
    "\n",
    "headers = {\n",
    "    'Accept': 'application/json'\n",
    "}\n",
    "\n",
    "artist_mbid = 'f2eef649-a6d5-4114-afba-e50ab26254d2'\n",
    "browse_url = f'https://musicbrainz.org/ws/2/release-group?mbid={artist_mbid}&inc=releases&fmt=json'\n",
    "\n",
    "# Perform the POST request\n",
    "# response = requests.get(url, params=params, headers=headers)\n",
    "response = requests.get(url)\n",
    "\n",
    "# Check if the request was successful\n",
    "if response.status_code == 200:\n",
    "    print('Query submitted successfully')\n",
    "else:\n",
    "    print('Failed to submit query')"
   ]
  },
  {
   "cell_type": "code",
   "execution_count": 79,
   "id": "ba06311b",
   "metadata": {},
   "outputs": [
    {
     "data": {
      "text/plain": [
       "{'life-span': {'end': None, 'ended': False, 'begin': '1996'},\n",
       " 'id': 'f2eef649-a6d5-4114-afba-e50ab26254d2',\n",
       " 'name': 'Sum 41',\n",
       " 'sort-name': 'Sum 41',\n",
       " 'isnis': ['0000000122539531'],\n",
       " 'disambiguation': '',\n",
       " 'gender-id': None,\n",
       " 'end-area': None,\n",
       " 'begin-area': {'disambiguation': '',\n",
       "  'type-id': None,\n",
       "  'type': None,\n",
       "  'sort-name': 'Ajax',\n",
       "  'name': 'Ajax',\n",
       "  'id': '595619e1-3cd4-467c-b79e-75ff9ed72d9b'},\n",
       " 'release-groups': [{'title': 'All Killer No Filler',\n",
       "   'disambiguation': '',\n",
       "   'primary-type': 'Album',\n",
       "   'first-release-date': '2001-05-08',\n",
       "   'secondary-type-ids': [],\n",
       "   'id': 'dd2c168f-41a6-37f5-a727-6e188bf22c6e',\n",
       "   'primary-type-id': 'f529b476-6e62-324f-b0aa-1f3e33d313fc',\n",
       "   'secondary-types': []},\n",
       "  {'primary-type': 'Album',\n",
       "   'disambiguation': '',\n",
       "   'title': 'Does This Look Infected?',\n",
       "   'secondary-types': [],\n",
       "   'primary-type-id': 'f529b476-6e62-324f-b0aa-1f3e33d313fc',\n",
       "   'id': '3ebc1782-e140-3a1a-971e-17826ddf462d',\n",
       "   'secondary-type-ids': [],\n",
       "   'first-release-date': '2002-11-25'},\n",
       "  {'secondary-types': [],\n",
       "   'primary-type-id': 'f529b476-6e62-324f-b0aa-1f3e33d313fc',\n",
       "   'id': 'c572a075-fdef-3bab-998b-44282fd573bb',\n",
       "   'secondary-type-ids': [],\n",
       "   'first-release-date': '2004-10-04',\n",
       "   'primary-type': 'Album',\n",
       "   'disambiguation': '',\n",
       "   'title': 'Chuck'},\n",
       "  {'secondary-types': [],\n",
       "   'primary-type-id': 'f529b476-6e62-324f-b0aa-1f3e33d313fc',\n",
       "   'secondary-type-ids': [],\n",
       "   'first-release-date': '2007-07-18',\n",
       "   'id': 'd342f01e-da96-30e1-8daf-7fb66c281648',\n",
       "   'title': 'Underclass Hero',\n",
       "   'primary-type': 'Album',\n",
       "   'disambiguation': ''},\n",
       "  {'id': 'f74392c9-8c26-4f80-979a-e7bc46e24cd1',\n",
       "   'first-release-date': '2011-03-28',\n",
       "   'secondary-type-ids': [],\n",
       "   'primary-type-id': 'f529b476-6e62-324f-b0aa-1f3e33d313fc',\n",
       "   'secondary-types': [],\n",
       "   'disambiguation': '',\n",
       "   'primary-type': 'Album',\n",
       "   'title': 'Screaming Bloody Murder'},\n",
       "  {'id': '27de34e7-47e1-4b63-971f-c9f4ac07bd56',\n",
       "   'first-release-date': '2016-10-07',\n",
       "   'secondary-type-ids': [],\n",
       "   'secondary-types': [],\n",
       "   'primary-type-id': 'f529b476-6e62-324f-b0aa-1f3e33d313fc',\n",
       "   'disambiguation': '',\n",
       "   'primary-type': 'Album',\n",
       "   'title': '13 Voices'},\n",
       "  {'id': '54a346b3-6851-481f-8f25-96c1895a9d6a',\n",
       "   'first-release-date': '2019-07-19',\n",
       "   'secondary-type-ids': [],\n",
       "   'secondary-types': [],\n",
       "   'primary-type-id': 'f529b476-6e62-324f-b0aa-1f3e33d313fc',\n",
       "   'disambiguation': '',\n",
       "   'primary-type': 'Album',\n",
       "   'title': 'Order in Decline'},\n",
       "  {'secondary-types': [],\n",
       "   'primary-type-id': 'f529b476-6e62-324f-b0aa-1f3e33d313fc',\n",
       "   'first-release-date': '2024-03-29',\n",
       "   'secondary-type-ids': [],\n",
       "   'id': '256762ad-6a8c-40b4-969e-c7721a3bf794',\n",
       "   'title': 'Heaven :x: Hell',\n",
       "   'disambiguation': '',\n",
       "   'primary-type': 'Album'},\n",
       "  {'primary-type': 'Album',\n",
       "   'disambiguation': '',\n",
       "   'title': 'All the Good Shit: 14 Solid Gold Hits 2000–2008',\n",
       "   'secondary-types': ['Compilation'],\n",
       "   'primary-type-id': 'f529b476-6e62-324f-b0aa-1f3e33d313fc',\n",
       "   'id': 'e1fe3fca-24f1-4903-9279-e0872bb001db',\n",
       "   'secondary-type-ids': ['dd2a21e1-0c00-3729-a7a0-de60b84eb5d1'],\n",
       "   'first-release-date': '2008-11-26'},\n",
       "  {'secondary-types': ['Live'],\n",
       "   'primary-type-id': 'f529b476-6e62-324f-b0aa-1f3e33d313fc',\n",
       "   'first-release-date': '2003',\n",
       "   'secondary-type-ids': ['6fd474e2-6b58-3102-9d17-d6f7eb7da0a0'],\n",
       "   'id': '4ba9165f-c71e-4147-81c3-443782a30d41',\n",
       "   'title': 'Sake Bombs and Happy Endings: Live In Tokyo',\n",
       "   'disambiguation': '',\n",
       "   'primary-type': 'Album'},\n",
       "  {'disambiguation': '',\n",
       "   'primary-type': 'Album',\n",
       "   'title': 'Go Chuck Yourself',\n",
       "   'id': 'dfaeb1a4-9c20-3a70-9c66-7ce0cf238ff9',\n",
       "   'first-release-date': '2005-12-21',\n",
       "   'secondary-type-ids': ['6fd474e2-6b58-3102-9d17-d6f7eb7da0a0'],\n",
       "   'secondary-types': ['Live'],\n",
       "   'primary-type-id': 'f529b476-6e62-324f-b0aa-1f3e33d313fc'},\n",
       "  {'primary-type': 'Album',\n",
       "   'disambiguation': '',\n",
       "   'title': 'Live at the House of Blues - Cleveland 9.15.07',\n",
       "   'secondary-types': ['Live'],\n",
       "   'primary-type-id': 'f529b476-6e62-324f-b0aa-1f3e33d313fc',\n",
       "   'id': '69d09724-7156-4d2d-a855-3c4f88f8f72e',\n",
       "   'secondary-type-ids': ['6fd474e2-6b58-3102-9d17-d6f7eb7da0a0'],\n",
       "   'first-release-date': '2011-01-01'},\n",
       "  {'title': 'Fat Lip',\n",
       "   'disambiguation': '',\n",
       "   'primary-type': 'Single',\n",
       "   'primary-type-id': 'd6038452-8ee0-3f68-affc-2de9a1ede0b9',\n",
       "   'secondary-types': [],\n",
       "   'first-release-date': '2001-10-15',\n",
       "   'secondary-type-ids': [],\n",
       "   'id': 'b91a3e0d-d292-3d9f-9998-ffa18d37e566'},\n",
       "  {'disambiguation': '',\n",
       "   'primary-type': 'Single',\n",
       "   'title': 'In Too Deep',\n",
       "   'id': '4716ca73-2951-3839-8e54-93a8a3210908',\n",
       "   'first-release-date': '2001-12-03',\n",
       "   'secondary-type-ids': [],\n",
       "   'primary-type-id': 'd6038452-8ee0-3f68-affc-2de9a1ede0b9',\n",
       "   'secondary-types': []},\n",
       "  {'title': 'Motivation',\n",
       "   'disambiguation': '',\n",
       "   'primary-type': 'Single',\n",
       "   'first-release-date': '2002-03-12',\n",
       "   'secondary-type-ids': [],\n",
       "   'id': '6c98eb06-7c39-3831-804a-9ed28ed02171',\n",
       "   'primary-type-id': 'd6038452-8ee0-3f68-affc-2de9a1ede0b9',\n",
       "   'secondary-types': []},\n",
       "  {'title': 'It’s What We’re All About',\n",
       "   'disambiguation': '',\n",
       "   'primary-type': 'Single',\n",
       "   'secondary-types': [],\n",
       "   'primary-type-id': 'd6038452-8ee0-3f68-affc-2de9a1ede0b9',\n",
       "   'first-release-date': '2002-06-17',\n",
       "   'secondary-type-ids': [],\n",
       "   'id': '64b5a1eb-6e51-329a-b31d-70ae1cf5741a'},\n",
       "  {'title': 'Still Waiting',\n",
       "   'disambiguation': '',\n",
       "   'primary-type': 'Single',\n",
       "   'first-release-date': '2002-11-18',\n",
       "   'secondary-type-ids': [],\n",
       "   'id': 'c0750e91-ebe8-325c-906a-8f71afe6f158',\n",
       "   'secondary-types': [],\n",
       "   'primary-type-id': 'd6038452-8ee0-3f68-affc-2de9a1ede0b9'},\n",
       "  {'first-release-date': '2002',\n",
       "   'secondary-type-ids': [],\n",
       "   'id': '3de13f3a-3458-3293-9a81-2dc3ad6540dd',\n",
       "   'primary-type-id': 'd6038452-8ee0-3f68-affc-2de9a1ede0b9',\n",
       "   'secondary-types': [],\n",
       "   'title': 'Handle This',\n",
       "   'disambiguation': '',\n",
       "   'primary-type': 'Single'},\n",
       "  {'disambiguation': '',\n",
       "   'primary-type': 'Single',\n",
       "   'title': 'The Hell Song',\n",
       "   'primary-type-id': 'd6038452-8ee0-3f68-affc-2de9a1ede0b9',\n",
       "   'secondary-types': [],\n",
       "   'id': 'a25977e4-4e04-3301-be9b-5c98cf9cb51a',\n",
       "   'first-release-date': '2003-02-10',\n",
       "   'secondary-type-ids': []},\n",
       "  {'primary-type-id': 'd6038452-8ee0-3f68-affc-2de9a1ede0b9',\n",
       "   'secondary-types': [],\n",
       "   'id': 'a0981140-0d63-49ca-af8d-e2469399055e',\n",
       "   'first-release-date': '2003-06-26',\n",
       "   'secondary-type-ids': [],\n",
       "   'disambiguation': '',\n",
       "   'primary-type': 'Single',\n",
       "   'title': 'Over My Head (Better Off Dead)'},\n",
       "  {'secondary-types': [],\n",
       "   'primary-type-id': 'd6038452-8ee0-3f68-affc-2de9a1ede0b9',\n",
       "   'secondary-type-ids': [],\n",
       "   'first-release-date': '2003',\n",
       "   'id': '68379290-8767-421e-82bb-8a9c5bca165a',\n",
       "   'title': 'Little Know It All',\n",
       "   'primary-type': 'Single',\n",
       "   'disambiguation': ''},\n",
       "  {'title': \"We're All to Blame\",\n",
       "   'primary-type': 'Single',\n",
       "   'disambiguation': '',\n",
       "   'secondary-types': [],\n",
       "   'primary-type-id': 'd6038452-8ee0-3f68-affc-2de9a1ede0b9',\n",
       "   'secondary-type-ids': [],\n",
       "   'first-release-date': '2004-08-31',\n",
       "   'id': '43e7dfa4-49fa-3ff5-a7cd-fd83b1dd6978'},\n",
       "  {'secondary-types': [],\n",
       "   'primary-type-id': 'd6038452-8ee0-3f68-affc-2de9a1ede0b9',\n",
       "   'secondary-type-ids': [],\n",
       "   'first-release-date': '2005-07-04',\n",
       "   'id': '2b678b5f-d852-3565-8932-c5f09391ba52',\n",
       "   'title': 'Pieces',\n",
       "   'primary-type': 'Single',\n",
       "   'disambiguation': ''},\n",
       "  {'secondary-types': [],\n",
       "   'primary-type-id': 'd6038452-8ee0-3f68-affc-2de9a1ede0b9',\n",
       "   'secondary-type-ids': [],\n",
       "   'first-release-date': '2007-07-10',\n",
       "   'id': '6961d871-7cf5-366b-8bce-4d5be64ef373',\n",
       "   'title': \"Underclass Hero / Fat Lip / We're All to Blame\",\n",
       "   'primary-type': 'Single',\n",
       "   'disambiguation': ''},\n",
       "  {'primary-type': 'Single',\n",
       "   'disambiguation': '',\n",
       "   'title': 'Underclass Hero',\n",
       "   'id': '37b68e5a-2ac6-3372-8863-8b57617677b9',\n",
       "   'secondary-type-ids': [],\n",
       "   'first-release-date': '2007-07-30',\n",
       "   'secondary-types': [],\n",
       "   'primary-type-id': 'd6038452-8ee0-3f68-affc-2de9a1ede0b9'}],\n",
       " 'area': {'id': '71bbafaa-e825-3e15-8ca9-017dcad1748b',\n",
       "  'iso-3166-1-codes': ['CA'],\n",
       "  'sort-name': 'Canada',\n",
       "  'name': 'Canada',\n",
       "  'disambiguation': '',\n",
       "  'type-id': None,\n",
       "  'type': None},\n",
       " 'gender': None,\n",
       " 'ipis': [],\n",
       " 'country': 'CA',\n",
       " 'type': 'Group',\n",
       " 'type-id': 'e431f5f6-b5d2-343d-8b36-72607fffb74b'}"
      ]
     },
     "execution_count": 79,
     "metadata": {},
     "output_type": "execute_result"
    }
   ],
   "source": [
    "response.json()"
   ]
  },
  {
   "cell_type": "code",
   "execution_count": null,
   "id": "daf14857",
   "metadata": {},
   "outputs": [],
   "source": []
  }
 ],
 "metadata": {
  "kernelspec": {
   "display_name": "Python 3 (ipykernel)",
   "language": "python",
   "name": "python3"
  },
  "language_info": {
   "codemirror_mode": {
    "name": "ipython",
    "version": 3
   },
   "file_extension": ".py",
   "mimetype": "text/x-python",
   "name": "python",
   "nbconvert_exporter": "python",
   "pygments_lexer": "ipython3",
   "version": "3.9.16"
  }
 },
 "nbformat": 4,
 "nbformat_minor": 5
}
